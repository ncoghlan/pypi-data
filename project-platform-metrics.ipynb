{
 "cells": [
  {
   "cell_type": "code",
   "execution_count": 8,
   "metadata": {
    "collapsed": false
   },
   "outputs": [
    {
     "data": {
      "text/plain": [
       "'0.18.0'"
      ]
     },
     "execution_count": 8,
     "metadata": {},
     "output_type": "execute_result"
    }
   ],
   "source": [
    "import pandas.io.gbq\n",
    "with open(\"bigquery_project.txt\") as f:\n",
    "    projectid = f.read().strip()\n",
    "pandas.__version__"
   ]
  },
  {
   "cell_type": "code",
   "execution_count": 21,
   "metadata": {
    "collapsed": false
   },
   "outputs": [
    {
     "name": "stdout",
     "output_type": "stream",
     "text": [
      "Requesting query... ok.\n",
      "Query running...\n",
      "Query done.\n",
      "Cache hit.\n",
      "\n",
      "Retrieving results...\n",
      "Got 1 rows.\n",
      "\n",
      "Total time taken 1.44 s.\n",
      "Finished at 2016-06-09 16:02:47.\n",
      "Total downloads in time period: 101,868,831\n",
      "Unique files downloaded in time period: 627,213\n",
      "Unique projects with files downloaded in time period: 69,910\n"
     ]
    }
   ],
   "source": [
    "data_range = 'TABLE_DATE_RANGE([the-psf:pypi.downloads], TIMESTAMP(\"20160530\"), TIMESTAMP(\"20160605\"))'\n",
    "count_query = \"\"\"\n",
    "SELECT count(*), count(distinct file.filename), count(distinct file.project)\n",
    "FROM {}\n",
    "\"\"\".format(data_range)\n",
    "total_downloads, distinct_files, distinct_projects = pandas.io.gbq.read_gbq(count_query, projectid).iloc[0]\n",
    "print(\"Total downloads in time period: {:,d}\".format(total_downloads))\n",
    "print(\"Unique files downloaded in time period: {:,d}\".format(distinct_files))\n",
    "print(\"Unique projects with files downloaded in time period: {:,d}\".format(distinct_projects))"
   ]
  },
  {
   "cell_type": "code",
   "execution_count": 2,
   "metadata": {
    "collapsed": false
   },
   "outputs": [
    {
     "name": "stdout",
     "output_type": "stream",
     "text": [
      "Requesting query... ok.\n",
      "Query running...\n",
      "  Elapsed 12.35 s. Waiting...\n",
      "Query done.\n",
      "Processed: 25.1 Gb\n",
      "\n",
      "Retrieving results...\n",
      "  Got page: 1; 20% done. Elapsed 17.05 s.\n",
      "  Got page: 2; 40% done. Elapsed 22.64 s.\n",
      "  Got page: 3; 59% done. Elapsed 27.44 s.\n",
      "  Got page: 4; 79% done. Elapsed 32.44 s.\n",
      "  Got page: 5; 99% done. Elapsed 37.3 s.\n",
      "  Got page: 6; 100% done. Elapsed 38.49 s.\n",
      "Got 84333 rows.\n",
      "\n",
      "Total time taken 42.03 s.\n",
      "Finished at 2016-06-09 15:35:30.\n"
     ]
    }
   ],
   "source": [
    "data_query = \"\"\"\n",
    "SELECT *\n",
    "FROM {}\n",
    "WHERE file.project = \"contextlib2\"\n",
    "\"\"\".format(data_range)\n",
    "df = pandas.io.gbq.read_gbq(data_query, projectid)\n",
    "df.to_csv(\"contextlib2_downloads_20160522_20160529.csv\")"
   ]
  },
  {
   "cell_type": "code",
   "execution_count": 6,
   "metadata": {
    "collapsed": false
   },
   "outputs": [
    {
     "data": {
      "text/html": [
       "<div>\n",
       "<table border=\"1\" class=\"dataframe\">\n",
       "  <thead>\n",
       "    <tr style=\"text-align: right;\">\n",
       "      <th></th>\n",
       "      <th>Unnamed: 0</th>\n",
       "      <th>timestamp</th>\n",
       "      <th>country_code</th>\n",
       "      <th>url</th>\n",
       "      <th>file_filename</th>\n",
       "      <th>file_project</th>\n",
       "      <th>file_version</th>\n",
       "      <th>file_type</th>\n",
       "      <th>details_installer_name</th>\n",
       "      <th>details_installer_version</th>\n",
       "      <th>...</th>\n",
       "      <th>details_implementation_version</th>\n",
       "      <th>details_distro_name</th>\n",
       "      <th>details_distro_version</th>\n",
       "      <th>details_distro_id</th>\n",
       "      <th>details_distro_libc_lib</th>\n",
       "      <th>details_distro_libc_version</th>\n",
       "      <th>details_system_name</th>\n",
       "      <th>details_system_release</th>\n",
       "      <th>details_cpu</th>\n",
       "      <th>details_openssl_version</th>\n",
       "    </tr>\n",
       "  </thead>\n",
       "  <tbody>\n",
       "    <tr>\n",
       "      <th>0</th>\n",
       "      <td>0</td>\n",
       "      <td>2016-05-25 12:17:54</td>\n",
       "      <td>PL</td>\n",
       "      <td>/packages/e6/02/0db6f0ed807f7fa9c005cc0e2ebb3d...</td>\n",
       "      <td>contextlib2-0.5.3-py2.py3-none-any.whl</td>\n",
       "      <td>contextlib2</td>\n",
       "      <td>0.5.3</td>\n",
       "      <td>bdist_wheel</td>\n",
       "      <td>pip</td>\n",
       "      <td>8.1.2</td>\n",
       "      <td>...</td>\n",
       "      <td>2.7.9</td>\n",
       "      <td>debian</td>\n",
       "      <td>8.4</td>\n",
       "      <td>NaN</td>\n",
       "      <td>glibc</td>\n",
       "      <td>2.4</td>\n",
       "      <td>Linux</td>\n",
       "      <td>3.16.0-4-amd64</td>\n",
       "      <td>x86_64</td>\n",
       "      <td>OpenSSL 1.0.1k 8 Jan 2015</td>\n",
       "    </tr>\n",
       "    <tr>\n",
       "      <th>1</th>\n",
       "      <td>1</td>\n",
       "      <td>2016-05-25 12:19:30</td>\n",
       "      <td>US</td>\n",
       "      <td>/packages/1e/82/8fa4e44f849237b13b6631b6a97569...</td>\n",
       "      <td>contextlib2-0.5.1.tar.gz</td>\n",
       "      <td>contextlib2</td>\n",
       "      <td>0.5.1</td>\n",
       "      <td>sdist</td>\n",
       "      <td>pip</td>\n",
       "      <td>8.1.2</td>\n",
       "      <td>...</td>\n",
       "      <td>2.7.5</td>\n",
       "      <td>CentOS Linux</td>\n",
       "      <td>7.2.1511</td>\n",
       "      <td>Core</td>\n",
       "      <td>glibc</td>\n",
       "      <td>2.2.5</td>\n",
       "      <td>Linux</td>\n",
       "      <td>3.10.0-327.13.1.el7.x86_64</td>\n",
       "      <td>x86_64</td>\n",
       "      <td>OpenSSL 1.0.1e-fips 11 Feb 2013</td>\n",
       "    </tr>\n",
       "    <tr>\n",
       "      <th>2</th>\n",
       "      <td>2</td>\n",
       "      <td>2016-05-25 12:56:21</td>\n",
       "      <td>RU</td>\n",
       "      <td>/packages/e6/02/0db6f0ed807f7fa9c005cc0e2ebb3d...</td>\n",
       "      <td>contextlib2-0.5.3-py2.py3-none-any.whl</td>\n",
       "      <td>contextlib2</td>\n",
       "      <td>0.5.3</td>\n",
       "      <td>bdist_wheel</td>\n",
       "      <td>pip</td>\n",
       "      <td>8.1.2</td>\n",
       "      <td>...</td>\n",
       "      <td>2.7.11</td>\n",
       "      <td>Ubuntu</td>\n",
       "      <td>14.04</td>\n",
       "      <td>trusty</td>\n",
       "      <td>glibc</td>\n",
       "      <td>2.4</td>\n",
       "      <td>Linux</td>\n",
       "      <td>3.13.0-43-generic</td>\n",
       "      <td>x86_64</td>\n",
       "      <td>OpenSSL 1.0.1f 6 Jan 2014</td>\n",
       "    </tr>\n",
       "    <tr>\n",
       "      <th>3</th>\n",
       "      <td>3</td>\n",
       "      <td>2016-05-25 12:31:18</td>\n",
       "      <td>US</td>\n",
       "      <td>/packages/e6/02/0db6f0ed807f7fa9c005cc0e2ebb3d...</td>\n",
       "      <td>contextlib2-0.5.3-py2.py3-none-any.whl</td>\n",
       "      <td>contextlib2</td>\n",
       "      <td>0.5.3</td>\n",
       "      <td>bdist_wheel</td>\n",
       "      <td>pip</td>\n",
       "      <td>7.1.2</td>\n",
       "      <td>...</td>\n",
       "      <td>2.7.10</td>\n",
       "      <td>debian</td>\n",
       "      <td>jessie/sid</td>\n",
       "      <td>NaN</td>\n",
       "      <td>glibc</td>\n",
       "      <td>2.7</td>\n",
       "      <td>Linux</td>\n",
       "      <td>3.19.0-30-generic</td>\n",
       "      <td>x86_64</td>\n",
       "      <td>NaN</td>\n",
       "    </tr>\n",
       "    <tr>\n",
       "      <th>4</th>\n",
       "      <td>4</td>\n",
       "      <td>2016-05-25 12:55:04</td>\n",
       "      <td>US</td>\n",
       "      <td>/packages/e6/02/0db6f0ed807f7fa9c005cc0e2ebb3d...</td>\n",
       "      <td>contextlib2-0.5.3-py2.py3-none-any.whl</td>\n",
       "      <td>contextlib2</td>\n",
       "      <td>0.5.3</td>\n",
       "      <td>bdist_wheel</td>\n",
       "      <td>pip</td>\n",
       "      <td>1.5.4</td>\n",
       "      <td>...</td>\n",
       "      <td>2.7.6</td>\n",
       "      <td>NaN</td>\n",
       "      <td>NaN</td>\n",
       "      <td>NaN</td>\n",
       "      <td>NaN</td>\n",
       "      <td>NaN</td>\n",
       "      <td>Linux</td>\n",
       "      <td>3.13.0-85-generic</td>\n",
       "      <td>NaN</td>\n",
       "      <td>NaN</td>\n",
       "    </tr>\n",
       "  </tbody>\n",
       "</table>\n",
       "<p>5 rows × 22 columns</p>\n",
       "</div>"
      ],
      "text/plain": [
       "   Unnamed: 0            timestamp country_code  \\\n",
       "0           0  2016-05-25 12:17:54           PL   \n",
       "1           1  2016-05-25 12:19:30           US   \n",
       "2           2  2016-05-25 12:56:21           RU   \n",
       "3           3  2016-05-25 12:31:18           US   \n",
       "4           4  2016-05-25 12:55:04           US   \n",
       "\n",
       "                                                 url  \\\n",
       "0  /packages/e6/02/0db6f0ed807f7fa9c005cc0e2ebb3d...   \n",
       "1  /packages/1e/82/8fa4e44f849237b13b6631b6a97569...   \n",
       "2  /packages/e6/02/0db6f0ed807f7fa9c005cc0e2ebb3d...   \n",
       "3  /packages/e6/02/0db6f0ed807f7fa9c005cc0e2ebb3d...   \n",
       "4  /packages/e6/02/0db6f0ed807f7fa9c005cc0e2ebb3d...   \n",
       "\n",
       "                            file_filename file_project file_version  \\\n",
       "0  contextlib2-0.5.3-py2.py3-none-any.whl  contextlib2        0.5.3   \n",
       "1                contextlib2-0.5.1.tar.gz  contextlib2        0.5.1   \n",
       "2  contextlib2-0.5.3-py2.py3-none-any.whl  contextlib2        0.5.3   \n",
       "3  contextlib2-0.5.3-py2.py3-none-any.whl  contextlib2        0.5.3   \n",
       "4  contextlib2-0.5.3-py2.py3-none-any.whl  contextlib2        0.5.3   \n",
       "\n",
       "     file_type details_installer_name details_installer_version  \\\n",
       "0  bdist_wheel                    pip                     8.1.2   \n",
       "1        sdist                    pip                     8.1.2   \n",
       "2  bdist_wheel                    pip                     8.1.2   \n",
       "3  bdist_wheel                    pip                     7.1.2   \n",
       "4  bdist_wheel                    pip                     1.5.4   \n",
       "\n",
       "                ...                details_implementation_version  \\\n",
       "0               ...                                         2.7.9   \n",
       "1               ...                                         2.7.5   \n",
       "2               ...                                        2.7.11   \n",
       "3               ...                                        2.7.10   \n",
       "4               ...                                         2.7.6   \n",
       "\n",
       "  details_distro_name details_distro_version details_distro_id  \\\n",
       "0              debian                    8.4               NaN   \n",
       "1        CentOS Linux               7.2.1511              Core   \n",
       "2              Ubuntu                  14.04            trusty   \n",
       "3              debian             jessie/sid               NaN   \n",
       "4                 NaN                    NaN               NaN   \n",
       "\n",
       "  details_distro_libc_lib details_distro_libc_version details_system_name  \\\n",
       "0                   glibc                         2.4               Linux   \n",
       "1                   glibc                       2.2.5               Linux   \n",
       "2                   glibc                         2.4               Linux   \n",
       "3                   glibc                         2.7               Linux   \n",
       "4                     NaN                         NaN               Linux   \n",
       "\n",
       "       details_system_release details_cpu          details_openssl_version  \n",
       "0              3.16.0-4-amd64      x86_64        OpenSSL 1.0.1k 8 Jan 2015  \n",
       "1  3.10.0-327.13.1.el7.x86_64      x86_64  OpenSSL 1.0.1e-fips 11 Feb 2013  \n",
       "2           3.13.0-43-generic      x86_64        OpenSSL 1.0.1f 6 Jan 2014  \n",
       "3           3.19.0-30-generic      x86_64                              NaN  \n",
       "4           3.13.0-85-generic         NaN                              NaN  \n",
       "\n",
       "[5 rows x 22 columns]"
      ]
     },
     "execution_count": 6,
     "metadata": {},
     "output_type": "execute_result"
    }
   ],
   "source": [
    "df = pandas.read_csv(\"contextlib2_downloads_20160522_20160529.csv\")\n",
    "df.head()"
   ]
  },
  {
   "cell_type": "code",
   "execution_count": 4,
   "metadata": {
    "collapsed": false
   },
   "outputs": [
    {
     "data": {
      "text/plain": [
       "2.7.6      40.964984\n",
       "2.7.9      10.277116\n",
       "2.7.11      8.603987\n",
       "2.7.3       6.449433\n",
       "2.7.10      6.209906\n",
       "3.4.3       5.780655\n",
       "2.7.5       4.751402\n",
       "3.5.1       4.292507\n",
       "2.7         2.672738\n",
       "2.7.11+     1.894869\n",
       "3.4.2       1.667200\n",
       "2.6.6       1.343484\n",
       "3.5.0       1.145459\n",
       "3.4.4       0.794470\n",
       "3.5.1+      0.544271\n",
       "3.4.1       0.420950\n",
       "2.7.8       0.305930\n",
       "3.3.5       0.234784\n",
       "2.7.2       0.192096\n",
       "3.4.0       0.115020\n",
       "Name: details_python, dtype: float64"
      ]
     },
     "execution_count": 4,
     "metadata": {},
     "output_type": "execute_result"
    }
   ],
   "source": [
    "100 * df[\"details_python\"].value_counts(normalize=True)[:20]"
   ]
  },
  {
   "cell_type": "code",
   "execution_count": 5,
   "metadata": {
    "collapsed": false
   },
   "outputs": [
    {
     "data": {
      "text/plain": [
       "NaN      59.035016\n",
       "8.1.2    24.608398\n",
       "1.5.4     6.187376\n",
       "7.1.2     4.261677\n",
       "1.4.1     3.761280\n",
       "8.1.1     0.873916\n",
       "6.0.8     0.362847\n",
       "8.0.2     0.273914\n",
       "1.5.6     0.227669\n",
       "6.1.1     0.104348\n",
       "7.1.0     0.094862\n",
       "8.1.0     0.067589\n",
       "7.0.3     0.032016\n",
       "8.0.0     0.027273\n",
       "8.0.3     0.026087\n",
       "6.0.6     0.016601\n",
       "7.0.0     0.010672\n",
       "1.5.5     0.005929\n",
       "7.0.1     0.005929\n",
       "6.0       0.005929\n",
       "Name: details_installer_version, dtype: float64"
      ]
     },
     "execution_count": 5,
     "metadata": {},
     "output_type": "execute_result"
    }
   ],
   "source": [
    "100 * df.where(df[\"details_python\"] == \"2.7.6\")[\"details_installer_version\"].value_counts(normalize=True, dropna=False)[:20]"
   ]
  },
  {
   "cell_type": "code",
   "execution_count": null,
   "metadata": {
    "collapsed": true
   },
   "outputs": [],
   "source": []
  }
 ],
 "metadata": {
  "kernelspec": {
   "display_name": "Python 3",
   "language": "python",
   "name": "python3"
  },
  "language_info": {
   "codemirror_mode": {
    "name": "ipython",
    "version": 3
   },
   "file_extension": ".py",
   "mimetype": "text/x-python",
   "name": "python",
   "nbconvert_exporter": "python",
   "pygments_lexer": "ipython3",
   "version": "3.5.1"
  }
 },
 "nbformat": 4,
 "nbformat_minor": 0
}
